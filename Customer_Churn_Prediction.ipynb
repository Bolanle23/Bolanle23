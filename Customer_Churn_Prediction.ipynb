{
  "nbformat": 4,
  "nbformat_minor": 0,
  "metadata": {
    "colab": {
      "provenance": [],
      "authorship_tag": "ABX9TyNCKJOB7y3mozs5NuKfcfLF",
      "include_colab_link": true
    },
    "kernelspec": {
      "name": "python3",
      "display_name": "Python 3"
    },
    "language_info": {
      "name": "python"
    }
  },
  "cells": [
    {
      "cell_type": "markdown",
      "metadata": {
        "id": "view-in-github",
        "colab_type": "text"
      },
      "source": [
        "<a href=\"https://colab.research.google.com/github/Bolanle23/Bolanle23/blob/main/Customer_Churn_Prediction.ipynb\" target=\"_parent\"><img src=\"https://colab.research.google.com/assets/colab-badge.svg\" alt=\"Open In Colab\"/></a>"
      ]
    },
    {
      "cell_type": "markdown",
      "source": [
        "## Objectives\n",
        "We want to build customer churn system using Machine Learning, we will be usinng a dataset from kaggle. We will be using different features to see whether a person will unsubscibe from a particular service or not.\n",
        "\n",
        "## The workflow\n",
        "1. data collection\n",
        "2. EDA\n",
        "3. Data preprocessing\n",
        "4. Train test split\n",
        "5. ML models\n",
        "6. choose best trained model\n",
        "7. use unknown data\n",
        "8. use trained model for prediction"
      ],
      "metadata": {
        "id": "T00htdO31uuR"
      }
    },
    {
      "cell_type": "markdown",
      "source": [
        "## 1. Import Dependencies"
      ],
      "metadata": {
        "id": "NGIvgqDH1inj"
      }
    },
    {
      "cell_type": "code",
      "source": [
        "# import library\n",
        "import pandas as pd\n",
        "import numpy as np\n",
        "import matplotlib.pyplot as plt\n",
        "import seaborn as sns\n",
        "from sklearn.preprocessing import LabelEncoder\n",
        "from imblearn.over_sampling import SMOTE\n",
        "from sklearn.model_selection import train_test_split, cross_val_score\n",
        "from sklearn.tree import DecisionTreeClassifier\n",
        "from sklearn.ensemble import RandomForestClassifier\n",
        "from xgboost import XGBClassifier\n",
        "from sklearn.metrics import accuracy_score, confusion_matrix, classification_report\n",
        "import pickle"
      ],
      "metadata": {
        "id": "JG2QIr8l1pfl"
      },
      "execution_count": 2,
      "outputs": []
    },
    {
      "cell_type": "markdown",
      "source": [
        "## 2. Data Loading and Understanding"
      ],
      "metadata": {
        "id": "fnB1UY616j_b"
      }
    },
    {
      "cell_type": "code",
      "source": [],
      "metadata": {
        "id": "14Y0MA1P2QVW"
      },
      "execution_count": null,
      "outputs": []
    },
    {
      "cell_type": "markdown",
      "source": [],
      "metadata": {
        "id": "8dx2op3x2fVq"
      }
    }
  ]
}